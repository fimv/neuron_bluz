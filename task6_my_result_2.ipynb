{
 "cells": [
  {
   "cell_type": "markdown",
   "metadata": {},
   "source": [
    "# Задачa классификации на наборе данных Fashion-MNIST\n",
    "## выполнил Фирсов М.В."
   ]
  },
  {
   "cell_type": "markdown",
   "metadata": {},
   "source": [
    "Изучены алгоритмы машиного обучения, такие как логистическая регрессия, полносвязные нейронные сети \n",
    "и сверточные нейронные сети."
   ]
  },
  {
   "cell_type": "markdown",
   "metadata": {},
   "source": [
    "## Подготовка данных"
   ]
  },
  {
   "cell_type": "markdown",
   "metadata": {},
   "source": [
    "Для постоянной работы с набором данных лучше сохранить его на жестком диске."
   ]
  },
  {
   "cell_type": "code",
   "execution_count": 1,
   "metadata": {},
   "outputs": [],
   "source": [
    "import numpy as np # linear algebra\n",
    "import pandas as pd # data processing, CSV file I/O (e.g. pd.read_csv)"
   ]
  },
  {
   "cell_type": "code",
   "execution_count": 2,
   "metadata": {},
   "outputs": [
    {
     "name": "stdout",
     "output_type": "stream",
     "text": [
      "./fashionmnist\\fashion-mnist_test.csv\n",
      "./fashionmnist\\fashion-mnist_train.csv\n",
      "./fashionmnist\\t10k-images-idx3-ubyte\n",
      "./fashionmnist\\t10k-labels-idx1-ubyte\n",
      "./fashionmnist\\train-images-idx3-ubyte\n",
      "./fashionmnist\\train-labels-idx1-ubyte\n"
     ]
    }
   ],
   "source": [
    "import os\n",
    "import matplotlib.pyplot as plt \n",
    "\n",
    "for dirname, _, filenames in os.walk('./fashionmnist'):\n",
    "    for filename in filenames:\n",
    "        print(os.path.join(dirname, filename))"
   ]
  },
  {
   "cell_type": "code",
   "execution_count": 3,
   "metadata": {},
   "outputs": [
    {
     "name": "stdout",
     "output_type": "stream",
     "text": [
      "./fashionmnist\\fashion-mnist_train.csv\n",
      "./fashionmnist\\fashion-mnist_test.csv\n",
      "train shape:  (60000, 785)\n",
      "test shape:  (10000, 785)\n"
     ]
    }
   ],
   "source": [
    "path_train=os.path.join('./fashionmnist',\"fashion-mnist_train.csv\")\n",
    "path_test=os.path.join('./fashionmnist',\"fashion-mnist_test.csv\")\n",
    "print(path_train),print(path_test)\n",
    "train=pd.read_csv(path_train)\n",
    "test=pd.read_csv(path_test)\n",
    "\n",
    "print(\"train shape: \",train.shape)\n",
    "print(\"test shape: \",test.shape)"
   ]
  },
  {
   "cell_type": "code",
   "execution_count": 4,
   "metadata": {},
   "outputs": [],
   "source": [
    "x_train = train.iloc[:,1:]\n",
    "y_train = train.iloc[:,:1]\n",
    "x_test = test.iloc[:,1:]\n",
    "y_test = test.iloc[:,:1]"
   ]
  },
  {
   "cell_type": "code",
   "execution_count": 5,
   "metadata": {},
   "outputs": [],
   "source": [
    "class_names = ['T-shirt/top', 'Trouser', 'Pullover', 'Dress', 'Coat', 'Sandal', 'Shirt', 'Sneaker', 'Bag', 'Ankle boot']"
   ]
  },
  {
   "cell_type": "code",
   "execution_count": 6,
   "metadata": {},
   "outputs": [
    {
     "name": "stdout",
     "output_type": "stream",
     "text": [
      "      pixel1  pixel2  pixel3  pixel4  pixel5  pixel6  pixel7  pixel8  pixel9  \\\n",
      "0          0       0       0       0       0       0       0       9       8   \n",
      "1          0       0       0       0       0       0       0       0       0   \n",
      "2          0       0       0       0       0       0      14      53      99   \n",
      "3          0       0       0       0       0       0       0       0       0   \n",
      "4          0       0       0       0       0       0       0       0       0   \n",
      "...      ...     ...     ...     ...     ...     ...     ...     ...     ...   \n",
      "9995       0       0       0       0       0       0       0       0       0   \n",
      "9996       0       0       0       0       0       0       0       0       0   \n",
      "9997       0       0       0       0       0       0       0       0       0   \n",
      "9998       0       1       3       0       0       0       0       0       0   \n",
      "9999       0       0       0       0       0       0       0     140     119   \n",
      "\n",
      "      pixel10  ...  pixel775  pixel776  pixel777  pixel778  pixel779  \\\n",
      "0           0  ...       103        87        56         0         0   \n",
      "1           0  ...        34         0         0         0         0   \n",
      "2          17  ...         0         0         0         0        63   \n",
      "3         161  ...       137       126       140         0       133   \n",
      "4           0  ...         0         0         0         0         0   \n",
      "...       ...  ...       ...       ...       ...       ...       ...   \n",
      "9995       37  ...        32        23        14        20         0   \n",
      "9996        0  ...         0         0         0         2        52   \n",
      "9997        0  ...       175       172       172       182       199   \n",
      "9998        0  ...         0         0         0         0         0   \n",
      "9999      103  ...       111        95        75        44         1   \n",
      "\n",
      "      pixel780  pixel781  pixel782  pixel783  pixel784  \n",
      "0            0         0         0         0         0  \n",
      "1            0         0         0         0         0  \n",
      "2           53        31         0         0         0  \n",
      "3          224       222        56         0         0  \n",
      "4            0         0         0         0         0  \n",
      "...        ...       ...       ...       ...       ...  \n",
      "9995         0         1         0         0         0  \n",
      "9996        23        28         0         0         0  \n",
      "9997       222        42         0         1         0  \n",
      "9998         1         0         0         0         0  \n",
      "9999         0         0         0         0         0  \n",
      "\n",
      "[10000 rows x 784 columns]\n"
     ]
    }
   ],
   "source": [
    "print(x_test)"
   ]
  },
  {
   "cell_type": "code",
   "execution_count": 7,
   "metadata": {},
   "outputs": [
    {
     "name": "stdout",
     "output_type": "stream",
     "text": [
      "x_train shape:  (60000, 784)\n",
      "x_test shape : (10000, 784)\n",
      "y_train shape : (60000, 1)\n",
      "y_test shape : (10000, 1)\n",
      "      label\n",
      "0         0\n",
      "1         1\n",
      "2         2\n",
      "3         2\n",
      "4         3\n",
      "...     ...\n",
      "9995      0\n",
      "9996      6\n",
      "9997      8\n",
      "9998      8\n",
      "9999      1\n",
      "\n",
      "[10000 rows x 1 columns]\n"
     ]
    }
   ],
   "source": [
    "print('x_train shape: ', x_train.shape)\n",
    "print('x_test shape :', x_test.shape)\n",
    "print('y_train shape :', y_train.shape)\n",
    "print('y_test shape :', y_test.shape)\n",
    "print(y_test)"
   ]
  },
  {
   "cell_type": "code",
   "execution_count": null,
   "metadata": {},
   "outputs": [],
   "source": []
  },
  {
   "cell_type": "markdown",
   "metadata": {},
   "source": [
    "## Логистическая регрессия"
   ]
  },
  {
   "cell_type": "markdown",
   "metadata": {},
   "source": [
    "### *Логистическая регрессия с помощью библиотеки sklearn*"
   ]
  },
  {
   "cell_type": "code",
   "execution_count": 37,
   "metadata": {},
   "outputs": [],
   "source": [
    "# normalizasyon islemi;\n",
    "x_train = x_train / 255.\n",
    "x_test = x_test / 255."
   ]
  },
  {
   "cell_type": "code",
   "execution_count": 38,
   "metadata": {},
   "outputs": [
    {
     "name": "stderr",
     "output_type": "stream",
     "text": [
      "C:\\Users\\Mike\\anaconda3\\envs\\coursera_ds\\lib\\site-packages\\sklearn\\utils\\validation.py:63: DataConversionWarning: A column-vector y was passed when a 1d array was expected. Please change the shape of y to (n_samples, ), for example using ravel().\n",
      "  return f(*args, **kwargs)\n"
     ]
    }
   ],
   "source": [
    "import sklearn\n",
    "from sklearn.linear_model import LogisticRegression\n",
    "model_regr = LogisticRegression(random_state=42, solver = 'liblinear')   #random_state=42, solver = 'liblinear'\n",
    "model_regr.fit(x_train, y_train)\n",
    "y_pred = model_regr.predict(x_test)"
   ]
  },
  {
   "cell_type": "code",
   "execution_count": 39,
   "metadata": {},
   "outputs": [
    {
     "name": "stdout",
     "output_type": "stream",
     "text": [
      "              precision    recall  f1-score   support\n",
      "\n",
      "           0       0.79      0.82      0.80      1000\n",
      "           1       0.96      0.97      0.97      1000\n",
      "           2       0.78      0.77      0.78      1000\n",
      "           3       0.85      0.88      0.87      1000\n",
      "           4       0.78      0.81      0.80      1000\n",
      "           5       0.93      0.92      0.92      1000\n",
      "           6       0.66      0.58      0.62      1000\n",
      "           7       0.91      0.91      0.91      1000\n",
      "           8       0.93      0.94      0.94      1000\n",
      "           9       0.93      0.94      0.94      1000\n",
      "\n",
      "    accuracy                           0.86     10000\n",
      "   macro avg       0.85      0.86      0.85     10000\n",
      "weighted avg       0.85      0.86      0.85     10000\n",
      "\n"
     ]
    }
   ],
   "source": [
    "score = sklearn.metrics.classification_report(y_test, y_pred)\n",
    "print(score)"
   ]
  },
  {
   "cell_type": "code",
   "execution_count": 40,
   "metadata": {},
   "outputs": [
    {
     "name": "stdout",
     "output_type": "stream",
     "text": [
      "mse =   1.9933\n"
     ]
    }
   ],
   "source": [
    "from sklearn.metrics import mean_squared_error\n",
    "mse = mean_squared_error(y_test, y_pred)\n",
    "print('mse =  ', mse)"
   ]
  },
  {
   "cell_type": "code",
   "execution_count": 44,
   "metadata": {},
   "outputs": [
    {
     "name": "stdout",
     "output_type": "stream",
     "text": [
      "[0 1 2 2 4 6 8 6 5 0]\n",
      "T-shirt/top\n",
      "Trouser\n",
      "Pullover\n",
      "Pullover\n",
      "Coat\n",
      "Shirt\n",
      "Bag\n",
      "Shirt\n",
      "Sandal\n",
      "T-shirt/top\n"
     ]
    }
   ],
   "source": [
    "y_pred = model_regr.predict(x_test[0:10])\n",
    "predicted_label = np.array(y_pred)    #np.argmax(y_pred)\n",
    "print(y_pred)\n",
    "for y in y_pred:\n",
    "    print(class_names[y])"
   ]
  },
  {
   "cell_type": "code",
   "execution_count": null,
   "metadata": {},
   "outputs": [],
   "source": [
    "Точность логистической регрессии 0.86. Квадратическая ошибка 1.9449.\n",
    "Необходимо для нормальной работы использовать resolver, а для воспроизводимости результатов random_state=42."
   ]
  },
  {
   "cell_type": "code",
   "execution_count": null,
   "metadata": {},
   "outputs": [],
   "source": []
  },
  {
   "cell_type": "markdown",
   "metadata": {},
   "source": [
    "### *Логистическая регрессия с помощью библиотеки tensorflow.keras*"
   ]
  },
  {
   "cell_type": "code",
   "execution_count": 23,
   "metadata": {},
   "outputs": [
    {
     "name": "stdout",
     "output_type": "stream",
     "text": [
      "tensorflow version is :  2.4.1\n"
     ]
    }
   ],
   "source": [
    "import tensorflow as tf\n",
    "from sklearn.model_selection import train_test_split\n",
    "import matplotlib.pyplot as plt\n",
    "from tensorflow.keras.layers import Dense, Dropout\n",
    "from tensorflow.keras import regularizers\n",
    "from tensorflow.keras.datasets import mnist\n",
    "from tensorflow.keras.models import Sequential\n",
    "from tensorflow.keras.layers import Dense, Dropout, Flatten\n",
    "from tensorflow.keras.layers import Conv2D, MaxPooling2D\n",
    "from tensorflow.keras import backend as K\n",
    "import numpy as np \n",
    "import matplotlib.pyplot as plt \n",
    "print(\"tensorflow version is : \", tf.__version__)"
   ]
  },
  {
   "cell_type": "code",
   "execution_count": 24,
   "metadata": {},
   "outputs": [],
   "source": [
    "x_train = train.iloc[:,1:]\n",
    "y_train = train.iloc[:,:1]\n",
    "x_test = test.iloc[:,1:]\n",
    "y_test = test.iloc[:,:1]"
   ]
  },
  {
   "cell_type": "code",
   "execution_count": 25,
   "metadata": {},
   "outputs": [],
   "source": [
    "# normalizasyon islemi;\n",
    "x_train = x_train / 255.\n",
    "x_test = x_test / 255."
   ]
  },
  {
   "cell_type": "code",
   "execution_count": 26,
   "metadata": {},
   "outputs": [],
   "source": [
    "# hiperparametrelerim\n",
    "batch_size = 128\n",
    "num_classes = 10\n",
    "epochs = 20\n",
    "learning_rate=0.001"
   ]
  },
  {
   "cell_type": "code",
   "execution_count": 27,
   "metadata": {},
   "outputs": [
    {
     "name": "stdout",
     "output_type": "stream",
     "text": [
      "num_classes =   10\n",
      "x_train shape:  (60000, 784)\n",
      "x_test shape : (10000, 784)\n",
      "y_train shape : (60000, 10)\n",
      "y_test shape : (10000, 10)\n"
     ]
    }
   ],
   "source": [
    "# one hot encode outputs\n",
    "num_classes = 10\n",
    "print(\"num_classes =  \", num_classes)\n",
    "\n",
    "y_train = tf.keras.utils.to_categorical(y_train, num_classes)\n",
    "y_test = tf.keras.utils.to_categorical(y_test, num_classes)\n",
    "\n",
    "print('x_train shape: ', x_train.shape)\n",
    "print('x_test shape :', x_test.shape)\n",
    "print('y_train shape :', y_train.shape)\n",
    "print('y_test shape :', y_test.shape)"
   ]
  },
  {
   "cell_type": "markdown",
   "metadata": {},
   "source": [
    "Используем стохастический градиентный спуск (stochastic gradient descent) в качестве алгоритма оптимизации."
   ]
  },
  {
   "cell_type": "code",
   "execution_count": 28,
   "metadata": {},
   "outputs": [],
   "source": [
    "def logist_regr01(input_shape):\n",
    "    model = tf.keras.models.Sequential()\n",
    "    #model.add(tf.keras.layers.Dense(256, activation='relu',input_shape=(784,)))\n",
    "    model.add(tf.keras.layers.Dense(10, activation='softmax'))\n",
    "    model.compile(loss='categorical_crossentropy', optimizer=tf.keras.optimizers.SGD() , metrics=['accuracy'])\n",
    "    return model"
   ]
  },
  {
   "cell_type": "code",
   "execution_count": 29,
   "metadata": {},
   "outputs": [
    {
     "name": "stdout",
     "output_type": "stream",
     "text": [
      "313/313 [==============================] - 0s 814us/step - loss: 0.4978 - accuracy: 0.8381\n",
      "validation loss:  0.49776381254196167\n",
      "validation accuracy:  0.838100016117096\n"
     ]
    }
   ],
   "source": [
    "model_00 = logist_regr01((784, ))\n",
    "\n",
    "class CustomCallback(tf.keras.callbacks.Callback):\n",
    "  logs_array=[]\n",
    "  def on_epoch_end(self,epoch,logs=None):\n",
    "    self.logs_array.append(logs)\n",
    "    \n",
    "history_logist_regr01=model_00.fit(x_train, y_train, batch_size=batch_size, epochs=epochs, callbacks=CustomCallback(), verbose=0, \\\n",
    "validation_data=(x_test, y_test), shuffle=True)\n",
    "val_loss, val_acc=model_00.evaluate(x_test, y_test )\n",
    "print(\"validation loss: \", val_loss)\n",
    "print(\"validation accuracy: \", val_acc)"
   ]
  },
  {
   "cell_type": "code",
   "execution_count": 31,
   "metadata": {},
   "outputs": [
    {
     "data": {
      "image/png": "[encoded data removed]",
      "text/plain": [
       "<Figure size 432x288 with 1 Axes>"
      ]
     },
     "metadata": {
      "needs_background": "light"
     },
     "output_type": "display_data"
    },
    {
     "data": {
      "image/png": "[encoded data removed]",
      "text/plain": [
       "<Figure size 432x288 with 1 Axes>"
      ]
     },
     "metadata": {
      "needs_background": "light"
     },
     "output_type": "display_data"
    }
   ],
   "source": [
    "plt.title('Model Logist regres,    Accuracy')\n",
    "plt.plot(range(1,21),history_logist_regr01.history['accuracy'])\n",
    "plt.plot(range(1,21),history_logist_regr01.history['val_accuracy'])\n",
    "plt.xlabel('Epoch')\n",
    "plt.ylabel('accuracy')\n",
    "plt.legend(labels=['train','validation'])\n",
    "plt.show()\n",
    "\n",
    "plt.title('Model Logist regres, one layer,    Loss')\n",
    "plt.plot(range(1,21),history_logist_regr01.history['loss'])\n",
    "plt.plot(range(1,21),history_logist_regr01.history['val_loss'])\n",
    "plt.xlabel('Epoch')\n",
    "plt.ylabel('loss')\n",
    "plt.legend(labels=['train','validation'])\n",
    "plt.show()"
   ]
  },
  {
   "cell_type": "markdown",
   "metadata": {},
   "source": [
    "Вывод: Точность модели \"logist_regr01\" (логистической регрессии) невысокая 0,83.\n",
    "Но разница между трейном и валидацией очень мала, следовательно модель логистической регрессии можно дообучить\n",
    "за счет увеличения количества эпох."
   ]
  },
  {
   "cell_type": "markdown",
   "metadata": {},
   "source": [
    "## Полносвязные нейронные сети"
   ]
  },
  {
   "cell_type": "markdown",
   "metadata": {},
   "source": [
    "Model \"neural_network01, one layer\""
   ]
  },
  {
   "cell_type": "code",
   "execution_count": 41,
   "metadata": {},
   "outputs": [
    {
     "name": "stdout",
     "output_type": "stream",
     "text": [
      "tensorflow version is :  2.4.1\n"
     ]
    }
   ],
   "source": [
    "import tensorflow as tf\n",
    "from sklearn.model_selection import train_test_split\n",
    "import matplotlib.pyplot as plt\n",
    "from tensorflow.keras.layers import Dense, Dropout\n",
    "from tensorflow.keras import regularizers\n",
    "from tensorflow.keras.datasets import mnist\n",
    "from tensorflow.keras.models import Sequential\n",
    "from tensorflow.keras.layers import Dense, Dropout, Flatten\n",
    "from tensorflow.keras.layers import Conv2D, MaxPooling2D\n",
    "from tensorflow.keras import backend as K\n",
    "import numpy as np \n",
    "import matplotlib.pyplot as plt \n",
    "print(\"tensorflow version is : \", tf.__version__)"
   ]
  },
  {
   "cell_type": "code",
   "execution_count": 54,
   "metadata": {},
   "outputs": [],
   "source": [
    "x_train = train.iloc[:,1:]\n",
    "y_train = train.iloc[:,:1]\n",
    "x_test = test.iloc[:,1:]\n",
    "y_test = test.iloc[:,:1]"
   ]
  },
  {
   "cell_type": "code",
   "execution_count": 55,
   "metadata": {},
   "outputs": [],
   "source": [
    "# normalizasyon islemi;\n",
    "x_train = x_train / 255.\n",
    "x_test = x_test / 255."
   ]
  },
  {
   "cell_type": "code",
   "execution_count": 56,
   "metadata": {},
   "outputs": [],
   "source": [
    "# hiperparametrelerim\n",
    "batch_size = 128\n",
    "num_classes = 10\n",
    "epochs = 20\n",
    "learning_rate=0.001"
   ]
  },
  {
   "cell_type": "code",
   "execution_count": 57,
   "metadata": {},
   "outputs": [
    {
     "name": "stdout",
     "output_type": "stream",
     "text": [
      "num_classes =   10\n",
      "x_train shape:  (60000, 784)\n",
      "x_test shape : (10000, 784)\n",
      "y_train shape : (60000, 10)\n",
      "y_test shape : (10000, 10)\n"
     ]
    }
   ],
   "source": [
    "# one hot encode outputs\n",
    "num_classes = 10\n",
    "print(\"num_classes =  \", num_classes)\n",
    "\n",
    "y_train = tf.keras.utils.to_categorical(y_train, num_classes)\n",
    "y_test = tf.keras.utils.to_categorical(y_test, num_classes)\n",
    "\n",
    "print('x_train shape: ', x_train.shape)\n",
    "print('x_test shape :', x_test.shape)\n",
    "print('y_train shape :', y_train.shape)\n",
    "print('y_test shape :', y_test.shape)"
   ]
  },
  {
   "cell_type": "code",
   "execution_count": 58,
   "metadata": {},
   "outputs": [],
   "source": [
    "def neural_network01(input_shape):\n",
    "    model = tf.keras.models.Sequential()\n",
    "    model.add(tf.keras.layers.Dense(256, activation='relu', input_shape=input_shape))\n",
    "    model.add(tf.keras.layers.Dense(10, activation='softmax'))\n",
    "    model.compile(loss='categorical_crossentropy', \n",
    "                  optimizer='adadelta', \n",
    "                  metrics=['accuracy'])\n",
    "    return model"
   ]
  },
  {
   "cell_type": "code",
   "execution_count": 60,
   "metadata": {},
   "outputs": [
    {
     "name": "stdout",
     "output_type": "stream",
     "text": [
      "Model: \"sequential_3\"\n",
      "_________________________________________________________________\n",
      "Layer (type)                 Output Shape              Param #   \n",
      "=================================================================\n",
      "dense_6 (Dense)              (None, 256)               200960    \n",
      "_________________________________________________________________\n",
      "dense_7 (Dense)              (None, 10)                2570      \n",
      "=================================================================\n",
      "Total params: 203,530\n",
      "Trainable params: 203,530\n",
      "Non-trainable params: 0\n",
      "_________________________________________________________________\n",
      "313/313 [==============================] - 1s 2ms/step - loss: 0.2881 - accuracy: 0.8980: 0s - loss: 0.2979 - accuracy\n",
      "validation loss:  0.288149893283844\n",
      "validation accuracy:  0.8980000019073486\n"
     ]
    }
   ],
   "source": [
    "model_01 = neural_network01((784, ))\n",
    "adam=tf.keras.optimizers.Adam(lr=learning_rate)\n",
    "model_01.compile(loss='categorical_crossentropy', optimizer='adam',metrics=['accuracy'])\n",
    "\n",
    "model_01.summary()\n",
    "\n",
    "history_network01=model_01.fit(x_train, y_train, batch_size=batch_size, epochs=epochs, verbose=0, \\\n",
    "validation_data=(x_test, y_test), shuffle=True)\n",
    "val_loss, val_acc=model_01.evaluate(x_test, y_test )\n",
    "print(\"validation loss: \", val_loss)\n",
    "print(\"validation accuracy: \", val_acc)"
   ]
  },
  {
   "cell_type": "code",
   "execution_count": 63,
   "metadata": {},
   "outputs": [
    {
     "data": {
      "image/png": "[encoded data removed]",
      "text/plain": [
       "<Figure size 432x288 with 1 Axes>"
      ]
     },
     "metadata": {
      "needs_background": "light"
     },
     "output_type": "display_data"
    },
    {
     "data": {
      "image/png": "[encoded data removed]",
      "text/plain": [
       "<Figure size 432x288 with 1 Axes>"
      ]
     },
     "metadata": {
      "needs_background": "light"
     },
     "output_type": "display_data"
    }
   ],
   "source": [
    "plt.title('Model neural_network01, one layer,    Accuracy')\n",
    "plt.plot(range(1,21),history_network01.history['accuracy'])\n",
    "plt.plot(range(1,21),history_network01.history['val_accuracy'])\n",
    "plt.xlabel('Epoch')\n",
    "plt.ylabel('accuracy')\n",
    "plt.legend(labels=['train','validation'])\n",
    "plt.show()\n",
    "\n",
    "plt.title('Model neural_network01, one layer,    Loss')\n",
    "plt.plot(range(1,21),history_network01.history['loss'])\n",
    "plt.plot(range(1,21),history_network01.history['val_loss'])\n",
    "plt.xlabel('Epoch')\n",
    "plt.ylabel('loss')\n",
    "plt.legend(labels=['train','validation'])\n",
    "plt.show()"
   ]
  },
  {
   "cell_type": "code",
   "execution_count": null,
   "metadata": {},
   "outputs": [],
   "source": [
    "Вывод: Точность модели \"neural_network01, one layer\" из одного слоя выше,чем у логистической регрессии."
   ]
  },
  {
   "cell_type": "code",
   "execution_count": null,
   "metadata": {},
   "outputs": [],
   "source": []
  },
  {
   "cell_type": "code",
   "execution_count": 91,
   "metadata": {},
   "outputs": [],
   "source": [
    "import tensorflow as tf\n",
    "from sklearn.model_selection import train_test_split\n",
    "import matplotlib.pyplot as plt\n",
    "from tensorflow.keras.layers import Dense, Dropout\n",
    "from tensorflow.keras import regularizers\n",
    "from tensorflow.keras.datasets import mnist\n",
    "from tensorflow.keras.models import Sequential\n",
    "from tensorflow.keras.layers import Dense, Dropout, Flatten\n",
    "from tensorflow.keras.layers import Conv2D, MaxPooling2D\n",
    "from tensorflow.keras import backend as K\n",
    "import numpy as np \n",
    "import matplotlib.pyplot as plt "
   ]
  },
  {
   "cell_type": "code",
   "execution_count": 92,
   "metadata": {},
   "outputs": [],
   "source": [
    "x_train = train.iloc[:,1:]\n",
    "y_train = train.iloc[:,:1]\n",
    "x_test = test.iloc[:,1:]\n",
    "y_test = test.iloc[:,:1]"
   ]
  },
  {
   "cell_type": "code",
   "execution_count": 93,
   "metadata": {},
   "outputs": [],
   "source": [
    "# normalizasyon islemi;\n",
    "x_train = x_train / 255.\n",
    "x_test = x_test / 255."
   ]
  },
  {
   "cell_type": "code",
   "execution_count": 94,
   "metadata": {},
   "outputs": [],
   "source": [
    "# hiperparametrelerim\n",
    "batch_size = 128\n",
    "num_classes = 10\n",
    "epochs = 20\n",
    "learning_rate=0.001"
   ]
  },
  {
   "cell_type": "code",
   "execution_count": 95,
   "metadata": {},
   "outputs": [
    {
     "name": "stdout",
     "output_type": "stream",
     "text": [
      "num_classes =   10\n",
      "x_train shape:  (60000, 784)\n",
      "x_test shape : (10000, 784)\n",
      "y_train shape : (60000, 10)\n",
      "y_test shape : (10000, 10)\n"
     ]
    }
   ],
   "source": [
    "# one hot encode outputs\n",
    "num_classes = 10\n",
    "print(\"num_classes =  \", num_classes)\n",
    "\n",
    "y_train = tf.keras.utils.to_categorical(y_train, num_classes)\n",
    "y_test = tf.keras.utils.to_categorical(y_test, num_classes)\n",
    "\n",
    "print('x_train shape: ', x_train.shape)\n",
    "print('x_test shape :', x_test.shape)\n",
    "print('y_train shape :', y_train.shape)\n",
    "print('y_test shape :', y_test.shape)"
   ]
  },
  {
   "cell_type": "code",
   "execution_count": 96,
   "metadata": {},
   "outputs": [
    {
     "name": "stdout",
     "output_type": "stream",
     "text": [
      "Model: \"sequential_7\"\n",
      "_________________________________________________________________\n",
      "Layer (type)                 Output Shape              Param #   \n",
      "=================================================================\n",
      "flatten_3 (Flatten)          (None, 784)               0         \n",
      "_________________________________________________________________\n",
      "dense_15 (Dense)             (None, 8)                 6280      \n",
      "_________________________________________________________________\n",
      "dense_16 (Dense)             (None, 16)                144       \n",
      "_________________________________________________________________\n",
      "dense_17 (Dense)             (None, 10)                170       \n",
      "=================================================================\n",
      "Total params: 6,594\n",
      "Trainable params: 6,594\n",
      "Non-trainable params: 0\n",
      "_________________________________________________________________\n",
      "313/313 [==============================] - 0s 1ms/step - loss: 0.4214 - accuracy: 0.8549\n",
      "validation loss:  0.4213670492172241\n",
      "validation accuracy:  0.8549000024795532\n"
     ]
    }
   ],
   "source": [
    "def Flatten_plus_thre_dense02(input_shape):\n",
    "    model = Sequential()\n",
    "    model.add(Flatten(input_shape=input_shape))\n",
    "    model.add(Dense(8, activation='sigmoid'))\n",
    "    model.add(Dense(16, activation='sigmoid'))\n",
    "    model.add(Dense(num_classes, activation='softmax'))\n",
    "    return model\n",
    "\n",
    "model_02 = Flatten_plus_thre_dense02((784, ))\n",
    "adam=tf.keras.optimizers.Adam(lr=learning_rate)\n",
    "model_02.compile(loss='categorical_crossentropy', optimizer='adam',metrics=['accuracy'])\n",
    "\n",
    "model_02.summary()\n",
    "\n",
    "history_02=model_02.fit(x_train, y_train, batch_size=batch_size, epochs=epochs, verbose=0, \\\n",
    "validation_data=(x_test, y_test), shuffle=True)\n",
    "val_loss, val_acc=model_02.evaluate(x_test, y_test )\n",
    "print(\"validation loss: \", val_loss)\n",
    "print(\"validation accuracy: \", val_acc)\n"
   ]
  },
  {
   "cell_type": "code",
   "execution_count": 98,
   "metadata": {},
   "outputs": [
    {
     "data": {
      "image/png": "[encoded data removed]",
      "text/plain": [
       "<Figure size 432x288 with 1 Axes>"
      ]
     },
     "metadata": {
      "needs_background": "light"
     },
     "output_type": "display_data"
    },
    {
     "data": {
      "image/png": "[encoded data removed]",
      "text/plain": [
       "<Figure size 432x288 with 1 Axes>"
      ]
     },
     "metadata": {
      "needs_background": "light"
     },
     "output_type": "display_data"
    }
   ],
   "source": [
    "plt.title('Model Flatten plus thre dense,    Accuracy')\n",
    "plt.plot(range(1,21),history_02.history['accuracy'])\n",
    "plt.plot(range(1,21),history_02.history['val_accuracy'])\n",
    "plt.xlabel('Epoch')\n",
    "plt.ylabel('accuracy')\n",
    "plt.legend(labels=['train','validation'])\n",
    "plt.show()\n",
    "\n",
    "plt.title('Model Flatten plus three dense,    Loss')\n",
    "plt.plot(range(1,21),history_02.history['loss'])\n",
    "plt.plot(range(1,21),history_02.history['val_loss'])\n",
    "plt.xlabel('Epoch')\n",
    "plt.ylabel('loss')\n",
    "plt.legend(labels=['train','validation'])\n",
    "plt.show()"
   ]
  },
  {
   "cell_type": "markdown",
   "metadata": {},
   "source": [
    "Вывод: Точность модели \"Flatten plus three dense\" невысокая - 0.85, как у логистической регрессии. В то же время точность и ошибка  у этой модели мало отличаются при трейне и валидации (стабильны), точность увеличивается, ошибка падает, поэтому можно попробовать для увеличения точности немного дообучить модель на большем количестве эпох."
   ]
  },
  {
   "cell_type": "code",
   "execution_count": null,
   "metadata": {},
   "outputs": [],
   "source": []
  },
  {
   "cell_type": "code",
   "execution_count": 18,
   "metadata": {},
   "outputs": [],
   "source": [
    "import tensorflow as tf\n",
    "from sklearn.model_selection import train_test_split\n",
    "import matplotlib.pyplot as plt\n",
    "from tensorflow.keras.layers import Dense, Dropout\n",
    "from tensorflow.keras import regularizers\n",
    "from tensorflow.keras.datasets import mnist\n",
    "from tensorflow.keras.models import Sequential\n",
    "from tensorflow.keras.layers import Dense, Dropout, Flatten\n",
    "from tensorflow.keras.layers import Conv2D, MaxPooling2D\n",
    "from tensorflow.keras import backend as K\n",
    "import numpy as np \n",
    "import matplotlib.pyplot as plt "
   ]
  },
  {
   "cell_type": "code",
   "execution_count": 19,
   "metadata": {},
   "outputs": [],
   "source": [
    "x_train = train.iloc[:,1:]\n",
    "y_train = train.iloc[:,:1]\n",
    "x_test = test.iloc[:,1:]\n",
    "y_test = test.iloc[:,:1]"
   ]
  },
  {
   "cell_type": "code",
   "execution_count": 20,
   "metadata": {},
   "outputs": [],
   "source": [
    "# normalizasyon islemi;\n",
    "x_train = x_train / 255.\n",
    "x_test = x_test / 255."
   ]
  },
  {
   "cell_type": "code",
   "execution_count": 21,
   "metadata": {},
   "outputs": [],
   "source": [
    "# hiperparametrelerim\n",
    "batch_size = 128\n",
    "num_classes = 10\n",
    "epochs = 20\n",
    "learning_rate=0.001"
   ]
  },
  {
   "cell_type": "code",
   "execution_count": 22,
   "metadata": {},
   "outputs": [
    {
     "name": "stdout",
     "output_type": "stream",
     "text": [
      "num_classes =   10\n",
      "x_train shape:  (60000, 784)\n",
      "x_test shape : (10000, 784)\n",
      "y_train shape : (60000, 10)\n",
      "y_test shape : (10000, 10)\n"
     ]
    }
   ],
   "source": [
    "# one hot encode outputs\n",
    "num_classes = 10\n",
    "print(\"num_classes =  \", num_classes)\n",
    "\n",
    "y_train = tf.keras.utils.to_categorical(y_train, num_classes)\n",
    "y_test = tf.keras.utils.to_categorical(y_test, num_classes)\n",
    "\n",
    "print('x_train shape: ', x_train.shape)\n",
    "print('x_test shape :', x_test.shape)\n",
    "print('y_train shape :', y_train.shape)\n",
    "print('y_test shape :', y_test.shape)"
   ]
  },
  {
   "cell_type": "code",
   "execution_count": 23,
   "metadata": {},
   "outputs": [
    {
     "name": "stdout",
     "output_type": "stream",
     "text": [
      "learning rate:  0.001 epochs :  20\n",
      "Model: \"sequential_1\"\n",
      "_________________________________________________________________\n",
      "Layer (type)                 Output Shape              Param #   \n",
      "=================================================================\n",
      "flatten_1 (Flatten)          (None, 784)               0         \n",
      "_________________________________________________________________\n",
      "dense_4 (Dense)              (None, 512)               401920    \n",
      "_________________________________________________________________\n",
      "dense_5 (Dense)              (None, 1024)              525312    \n",
      "_________________________________________________________________\n",
      "dropout_2 (Dropout)          (None, 1024)              0         \n",
      "_________________________________________________________________\n",
      "dense_6 (Dense)              (None, 1024)              1049600   \n",
      "_________________________________________________________________\n",
      "dropout_3 (Dropout)          (None, 1024)              0         \n",
      "_________________________________________________________________\n",
      "dense_7 (Dense)              (None, 10)                10250     \n",
      "=================================================================\n",
      "Total params: 1,987,082\n",
      "Trainable params: 1,987,082\n",
      "Non-trainable params: 0\n",
      "_________________________________________________________________\n"
     ]
    }
   ],
   "source": [
    "print('learning rate: ', learning_rate, 'epochs : ', epochs)\n",
    "def Dense4_2dropout03(input_shape):\n",
    "    model = Sequential()\n",
    "    model.add(Flatten(input_shape = input_shape))\n",
    "    model.add(Dense(512, activation = 'tanh'))\n",
    "    model.add(Dense(1024, activation = 'tanh'))\n",
    "    model.add(Dropout(0.2))\n",
    "    model.add(Dense(1024, activation = 'tanh'))\n",
    "    model.add(Dropout(0.2))\n",
    "    model.add(Dense(num_classes, activation = 'softmax'))\n",
    "    return model\n",
    "\n",
    "model_03 = Dense4_2dropout03((784, ))\n",
    "adam = tf.keras.optimizers.Adam(lr = learning_rate)\n",
    "model_03.compile(loss = 'categorical_crossentropy', optimizer = 'adam', metrics = ['accuracy'])\n",
    "model_03.summary()"
   ]
  },
  {
   "cell_type": "code",
   "execution_count": 24,
   "metadata": {},
   "outputs": [
    {
     "name": "stdout",
     "output_type": "stream",
     "text": [
      "313/313 [==============================] - 1s 4ms/step - loss: 0.3193 - accuracy: 0.8888\n",
      "val_loss =  0.3193267583847046\n",
      "val_acc =  0.8888000249862671\n"
     ]
    }
   ],
   "source": [
    "history_03 = model_03.fit(x_train, y_train, epochs = epochs , batch_size = batch_size, verbose = 0,\n",
    "                    validation_data= (x_test, y_test), shuffle = True)\n",
    "val_loss, val_acc = model_03.evaluate(x_test, y_test)\n",
    "print('val_loss = ', val_loss)\n",
    "print('val_acc = ', val_acc)"
   ]
  },
  {
   "cell_type": "code",
   "execution_count": 25,
   "metadata": {},
   "outputs": [
    {
     "data": {
      "image/png": "[encoded data removed]",
      "text/plain": [
       "<Figure size 432x288 with 1 Axes>"
      ]
     },
     "metadata": {
      "needs_background": "light"
     },
     "output_type": "display_data"
    },
    {
     "data": {
      "image/png": "[encoded data removed]",
      "text/plain": [
       "<Figure size 432x288 with 1 Axes>"
      ]
     },
     "metadata": {
      "needs_background": "light"
     },
     "output_type": "display_data"
    }
   ],
   "source": [
    "\n",
    "plt.title('Model 4dense 2dropout,     Accuracy')\n",
    "plt.plot(range(1,21),history_03.history['accuracy'])\n",
    "plt.plot(range(1,21),history_03.history['val_accuracy'])\n",
    "plt.xlabel('Epoch')\n",
    "plt.ylabel('accuracy')\n",
    "plt.legend(labels=['train','validation'])\n",
    "plt.show()\n",
    "\n",
    "plt.title('Model 4dense 2dropout,     Loss')\n",
    "plt.plot(range(1,21),history_03.history['loss'])\n",
    "plt.plot(range(1,21),history_03.history['val_loss'])\n",
    "plt.xlabel('Epoch')\n",
    "plt.ylabel('loss')\n",
    "plt.legend(labels=['train','validation'])\n",
    "plt.show()"
   ]
  },
  {
   "cell_type": "markdown",
   "metadata": {},
   "source": [
    "Вывод: Точность модели выше других полносвязных и логистической регрессии. Однако после 6 эпох модель быстро переобучается, увеличить точность не получится. \n",
    "Для автоматизации обучения, валидации, анализа моделей и минимизации расхода ресурсов необходимо использовать инструмент \"Early stopping\""
   ]
  },
  {
   "cell_type": "code",
   "execution_count": null,
   "metadata": {},
   "outputs": [],
   "source": []
  },
  {
   "cell_type": "markdown",
   "metadata": {},
   "source": [
    "## Сверточные нейронные сети"
   ]
  },
  {
   "cell_type": "code",
   "execution_count": 27,
   "metadata": {},
   "outputs": [],
   "source": [
    "import tensorflow as tf\n",
    "from sklearn.model_selection import train_test_split\n",
    "import matplotlib.pyplot as plt\n",
    "from tensorflow.keras.layers import Dense, Dropout\n",
    "from tensorflow.keras import regularizers\n",
    "from tensorflow.keras.datasets import mnist\n",
    "from tensorflow.keras.models import Sequential\n",
    "from tensorflow.keras.layers import Dense, Dropout, Flatten\n",
    "from tensorflow.keras.layers import Conv2D, MaxPooling2D\n",
    "from tensorflow.keras import backend as K\n",
    "import numpy as np \n",
    "import matplotlib.pyplot as plt"
   ]
  },
  {
   "cell_type": "code",
   "execution_count": 28,
   "metadata": {},
   "outputs": [],
   "source": [
    "x_train = train.iloc[:,1:]\n",
    "y_train = train.iloc[:,:1]\n",
    "x_test = test.iloc[:,1:]\n",
    "y_test = test.iloc[:,:1]"
   ]
  },
  {
   "cell_type": "code",
   "execution_count": 29,
   "metadata": {},
   "outputs": [],
   "source": [
    "# normalizasyon islemi;\n",
    "x_train = x_train / 255.\n",
    "x_test = x_test / 255."
   ]
  },
  {
   "cell_type": "code",
   "execution_count": 30,
   "metadata": {},
   "outputs": [],
   "source": [
    "# hiperparametrelerim\n",
    "batch_size = 128\n",
    "num_classes = 10\n",
    "epochs = 20\n",
    "learning_rate=0.001"
   ]
  },
  {
   "cell_type": "code",
   "execution_count": 31,
   "metadata": {},
   "outputs": [
    {
     "name": "stdout",
     "output_type": "stream",
     "text": [
      "num_classes =   10\n",
      "x_train shape :  (60000, 28, 28, 1)\n",
      "x_test shape :  (10000, 28, 28, 1)\n",
      "y_train shape :  (60000, 10)\n",
      "y_test shape :  (10000, 10)\n"
     ]
    }
   ],
   "source": [
    "# reshape images.\n",
    "x_train = x_train.values.reshape(-1,28,28,1)\n",
    "x_test = x_test.values.reshape(-1,28,28,1)\n",
    "\n",
    "# one-hot encoding\n",
    "num_classes = 10\n",
    "print(\"num_classes =  \", num_classes)\n",
    "y_train = tf.keras.utils.to_categorical(y_train, num_classes)\n",
    "y_test = tf.keras.utils.to_categorical(y_test, num_classes)\n",
    "#num_classes = 10\n",
    "#y_train = tf.keras.utils.to_categorical(y_train, num_classes= num_classes)\n",
    "#y_test = tf.keras.utils.to_categorical(y_test, num_classes= num_classes) \n",
    "\n",
    "# check shape\n",
    "print('x_train shape : ', x_train.shape)\n",
    "print('x_test shape : ', x_test.shape)\n",
    "print('y_train shape : ', y_train.shape)\n",
    "print('y_test shape : ', y_test.shape)"
   ]
  },
  {
   "cell_type": "markdown",
   "metadata": {},
   "source": [
    "Визуализация исходных данных"
   ]
  },
  {
   "cell_type": "code",
   "execution_count": 32,
   "metadata": {},
   "outputs": [
    {
     "data": {
      "image/png": "[encoded data removed]",
      "text/plain": [
       "<Figure size 576x576 with 16 Axes>"
      ]
     },
     "metadata": {
      "needs_background": "light"
     },
     "output_type": "display_data"
    }
   ],
   "source": [
    "fig = plt.figure(figsize = (8,8))\n",
    "\n",
    "for i in range(16):\n",
    "    plt.subplot(4,4,1 + i)\n",
    "    plt.title(np.argmax(y_train[i]), fontname = 'Times New Roman', fontweight = 'bold')\n",
    "    plt.imshow(x_train[i,:,:,0], cmap = plt.get_cmap('gray'))"
   ]
  },
  {
   "cell_type": "code",
   "execution_count": 33,
   "metadata": {},
   "outputs": [
    {
     "name": "stdout",
     "output_type": "stream",
     "text": [
      "(28, 28, 1)\n"
     ]
    }
   ],
   "source": [
    "img_rows = 28\n",
    "img_cols = 28\n",
    "if K.image_data_format()== 'channels_first':\n",
    "    x_train = x_train.reshape(x_train.shape[0], 1, img_rows, img_cols)\n",
    "    x_test = x_test.reshape(x_test.shape[0],1, img_rows, img_cols)\n",
    "    input_shape = (1, img_rows, img_cols)\n",
    "else:\n",
    "    x_train = x_train.reshape(x_train.shape[0], img_rows, img_cols, 1)\n",
    "    x_test = x_test.reshape(x_test.shape[0], img_rows, img_cols, 1)\n",
    "    input_shape = (img_rows, img_cols, 1)\n",
    "    \n",
    "print (input_shape) "
   ]
  },
  {
   "cell_type": "code",
   "execution_count": 34,
   "metadata": {},
   "outputs": [],
   "source": [
    "def conv_net(input_shape):\n",
    "    model = tf.keras.models.Sequential()\n",
    "    model.add(tf.keras.layers.Convolution2D(32, (3,3), input_shape=input_shape, activation='relu'))\n",
    "    model.add(tf.keras.layers.MaxPooling2D((2,2)))\n",
    "    model.add(tf.keras.layers.Convolution2D(64, (3,3), activation='relu'))\n",
    "    model.add(tf.keras.layers.MaxPooling2D((2,2)))\n",
    "    model.add(tf.keras.layers.Flatten())\n",
    "    model.add(tf.keras.layers.Dense(64, activation='relu'))\n",
    "    model.add(tf.keras.layers.Dense(10, activation='softmax'))\n",
    "    #model.compile(loss='categorical_crossentropy', \n",
    "                  #optimizer= 'adadelta', \n",
    "                  #metrics=['accuracy'])\n",
    "    return model"
   ]
  },
  {
   "cell_type": "code",
   "execution_count": 36,
   "metadata": {},
   "outputs": [
    {
     "name": "stdout",
     "output_type": "stream",
     "text": [
      "Model: \"sequential_3\"\n",
      "_________________________________________________________________\n",
      "Layer (type)                 Output Shape              Param #   \n",
      "=================================================================\n",
      "conv2d_6 (Conv2D)            (None, 26, 26, 32)        320       \n",
      "_________________________________________________________________\n",
      "max_pooling2d_6 (MaxPooling2 (None, 13, 13, 32)        0         \n",
      "_________________________________________________________________\n",
      "conv2d_7 (Conv2D)            (None, 11, 11, 64)        18496     \n",
      "_________________________________________________________________\n",
      "max_pooling2d_7 (MaxPooling2 (None, 5, 5, 64)          0         \n",
      "_________________________________________________________________\n",
      "flatten_3 (Flatten)          (None, 1600)              0         \n",
      "_________________________________________________________________\n",
      "dense_6 (Dense)              (None, 64)                102464    \n",
      "_________________________________________________________________\n",
      "dense_7 (Dense)              (None, 10)                650       \n",
      "=================================================================\n",
      "Total params: 121,930\n",
      "Trainable params: 121,930\n",
      "Non-trainable params: 0\n",
      "_________________________________________________________________\n",
      "313/313 [==============================] - 1s 4ms/step - loss: 0.2770 - accuracy: 0.9159\n",
      "validation loss:  0.2770179510116577\n",
      "validation accuracy:  0.9158999919891357\n"
     ]
    }
   ],
   "source": [
    "adam=tf.keras.optimizers.Adam(lr=learning_rate)\n",
    "model_04 = conv_net((28, 28, 1))\n",
    "model_04.compile(loss='categorical_crossentropy', optimizer='adam',metrics=['accuracy'])\n",
    "model_04.summary()\n",
    "\n",
    "history_svertka=model_04.fit(x_train, y_train, batch_size=batch_size, epochs=epochs, verbose=0, \\\n",
    "validation_data=(x_test, y_test), shuffle=True)\n",
    "val_loss, val_acc=model_04.evaluate(x_test, y_test )\n",
    "print(\"validation loss: \", val_loss)\n",
    "print(\"validation accuracy: \", val_acc)"
   ]
  },
  {
   "cell_type": "code",
   "execution_count": 37,
   "metadata": {},
   "outputs": [
    {
     "data": {
      "image/png": "[encoded data removed]",
      "text/plain": [
       "<Figure size 432x288 with 1 Axes>"
      ]
     },
     "metadata": {
      "needs_background": "light"
     },
     "output_type": "display_data"
    },
    {
     "data": {
      "image/png": "[encoded data removed]",
      "text/plain": [
       "<Figure size 432x288 with 1 Axes>"
      ]
     },
     "metadata": {
      "needs_background": "light"
     },
     "output_type": "display_data"
    }
   ],
   "source": [
    "plt.title('Model Svertka_1 2d pool 2d pool flatten 2dense,    Accuracy')\n",
    "plt.plot(range(1,21),history_svertka.history['accuracy'])\n",
    "plt.plot(range(1,21),history_svertka.history['val_accuracy'])\n",
    "plt.xlabel('Epoch')\n",
    "plt.ylabel('accuracy')\n",
    "plt.legend(labels=['train','validation'])\n",
    "plt.show()\n",
    "\n",
    "plt.title('Model Svertka_1 2d pool 2d pool flatten 2dense,    Loss')\n",
    "plt.plot(range(1,21),history_svertka.history['loss'])\n",
    "plt.plot(range(1,21),history_svertka.history['val_loss'])\n",
    "plt.xlabel('Epoch')\n",
    "plt.ylabel('loss')\n",
    "plt.legend(labels=['train','validation'])\n",
    "plt.show()"
   ]
  },
  {
   "cell_type": "markdown",
   "metadata": {},
   "source": [
    "Вывод: У сверточной модели самая высокая точность по сравнению с полносвязными моделями и логистической регресией за счет увеличения количества слоев. \n",
    "Однако сверточная модель требует на порядок больше ресурсов для трейна и валидации по сравнению с другими моделями.\n",
    "Кроме того конкретно данная модель \"Svertka_1 2d pool 2d pool flatten 2dense\" быстро переобучается после 6 эпох."
   ]
  },
  {
   "cell_type": "code",
   "execution_count": null,
   "metadata": {},
   "outputs": [],
   "source": []
  },
  {
   "cell_type": "markdown",
   "metadata": {},
   "source": [
    "### *Применение Batch Normalization*"
   ]
  },
  {
   "cell_type": "markdown",
   "metadata": {},
   "source": [
    "Добавим Batch Normalization слои"
   ]
  },
  {
   "cell_type": "code",
   "execution_count": 6,
   "metadata": {},
   "outputs": [],
   "source": [
    "import tensorflow as tf\n",
    "from sklearn.model_selection import train_test_split\n",
    "import matplotlib.pyplot as plt\n",
    "from tensorflow.keras.layers import Dense, Dropout\n",
    "from tensorflow.keras import regularizers\n",
    "from tensorflow.keras.datasets import mnist\n",
    "from tensorflow.keras.models import Sequential\n",
    "from tensorflow.keras.layers import Dense, Dropout, Flatten\n",
    "from tensorflow.keras.layers import Conv2D, MaxPooling2D\n",
    "from tensorflow.keras import backend as K\n",
    "import numpy as np \n",
    "import matplotlib.pyplot as plt"
   ]
  },
  {
   "cell_type": "code",
   "execution_count": 7,
   "metadata": {},
   "outputs": [],
   "source": [
    "x_train = train.iloc[:,1:]\n",
    "y_train = train.iloc[:,:1]\n",
    "x_test = test.iloc[:,1:]\n",
    "y_test = test.iloc[:,:1]"
   ]
  },
  {
   "cell_type": "code",
   "execution_count": 8,
   "metadata": {},
   "outputs": [],
   "source": [
    "# normalizasyon islemi;\n",
    "x_train = x_train / 255.\n",
    "x_test = x_test / 255."
   ]
  },
  {
   "cell_type": "code",
   "execution_count": 9,
   "metadata": {},
   "outputs": [],
   "source": [
    "# hiperparametrelerim\n",
    "batch_size = 128\n",
    "num_classes = 10\n",
    "epochs = 20\n",
    "learning_rate=0.001"
   ]
  },
  {
   "cell_type": "code",
   "execution_count": 10,
   "metadata": {},
   "outputs": [
    {
     "name": "stdout",
     "output_type": "stream",
     "text": [
      "num_classes =   10\n",
      "x_train shape :  (60000, 28, 28, 1)\n",
      "x_test shape :  (10000, 28, 28, 1)\n",
      "y_train shape :  (60000, 10)\n",
      "y_test shape :  (10000, 10)\n"
     ]
    }
   ],
   "source": [
    "# reshape images.\n",
    "x_train = x_train.values.reshape(-1,28,28,1)\n",
    "x_test = x_test.values.reshape(-1,28,28,1)\n",
    "\n",
    "# one-hot encoding\n",
    "num_classes = 10\n",
    "print(\"num_classes =  \", num_classes)\n",
    "y_train = tf.keras.utils.to_categorical(y_train, num_classes)\n",
    "y_test = tf.keras.utils.to_categorical(y_test, num_classes)\n",
    "#num_classes = 10\n",
    "#y_train = tf.keras.utils.to_categorical(y_train, num_classes= num_classes)\n",
    "#y_test = tf.keras.utils.to_categorical(y_test, num_classes= num_classes) \n",
    "\n",
    "# check shape\n",
    "print('x_train shape : ', x_train.shape)\n",
    "print('x_test shape : ', x_test.shape)\n",
    "print('y_train shape : ', y_train.shape)\n",
    "print('y_test shape : ', y_test.shape)"
   ]
  },
  {
   "cell_type": "code",
   "execution_count": 12,
   "metadata": {},
   "outputs": [],
   "source": [
    "from tensorflow.keras.layers import BatchNormalization\n",
    "def model_BatchNormaliz(input_shape):\n",
    "    model = tf.keras.models.Sequential()\n",
    "    model.add(tf.keras.layers.Convolution2D(32, (3,3), input_shape=input_shape, activation='relu'))\n",
    "    model.add(BatchNormalization(axis=-1, momentum=0.99, epsilon=0.001))\n",
    "    model.add(tf.keras.layers.MaxPooling2D((2,2)))\n",
    "    model.add(tf.keras.layers.Convolution2D(64, (3,3), activation='relu'))\n",
    "    model.add(BatchNormalization(axis=-1, momentum=0.99, epsilon=0.001))\n",
    "    model.add(tf.keras.layers.MaxPooling2D((2,2)))\n",
    "    model.add(tf.keras.layers.Flatten())\n",
    "    model.add(tf.keras.layers.Dense(64, activation='relu'))\n",
    "    model.add(tf.keras.layers.Dense(10, activation='softmax'))\n",
    "    #model.compile(loss='categorical_crossentropy', \n",
    "                  #optimizer= 'adadelta', \n",
    "                  #metrics=['accuracy'])\n",
    "    return model"
   ]
  },
  {
   "cell_type": "code",
   "execution_count": 14,
   "metadata": {},
   "outputs": [
    {
     "name": "stdout",
     "output_type": "stream",
     "text": [
      "Model: \"sequential_1\"\n",
      "_________________________________________________________________\n",
      "Layer (type)                 Output Shape              Param #   \n",
      "=================================================================\n",
      "conv2d_2 (Conv2D)            (None, 26, 26, 32)        320       \n",
      "_________________________________________________________________\n",
      "batch_normalization_2 (Batch (None, 26, 26, 32)        128       \n",
      "_________________________________________________________________\n",
      "max_pooling2d_2 (MaxPooling2 (None, 13, 13, 32)        0         \n",
      "_________________________________________________________________\n",
      "conv2d_3 (Conv2D)            (None, 11, 11, 64)        18496     \n",
      "_________________________________________________________________\n",
      "batch_normalization_3 (Batch (None, 11, 11, 64)        256       \n",
      "_________________________________________________________________\n",
      "max_pooling2d_3 (MaxPooling2 (None, 5, 5, 64)          0         \n",
      "_________________________________________________________________\n",
      "flatten_1 (Flatten)          (None, 1600)              0         \n",
      "_________________________________________________________________\n",
      "dense_2 (Dense)              (None, 64)                102464    \n",
      "_________________________________________________________________\n",
      "dense_3 (Dense)              (None, 10)                650       \n",
      "=================================================================\n",
      "Total params: 122,314\n",
      "Trainable params: 122,122\n",
      "Non-trainable params: 192\n",
      "_________________________________________________________________\n",
      "313/313 [==============================] - 2s 5ms/step - loss: 0.4754 - accuracy: 0.9053\n",
      "validation loss:  0.4753838777542114\n",
      "validation accuracy:  0.9053000211715698\n"
     ]
    }
   ],
   "source": [
    "adam=tf.keras.optimizers.Adam(lr=learning_rate)\n",
    "model_05 = model_BatchNormaliz((28, 28, 1))\n",
    "model_05.compile(loss='categorical_crossentropy', optimizer='adam',metrics=['accuracy'])\n",
    "model_05.summary()\n",
    "\n",
    "\n",
    "history_model_BatchNormaliz=model_05.fit(x_train, y_train, batch_size=batch_size, epochs=epochs, \\\n",
    "verbose=0, validation_data=(x_test, y_test), shuffle=True)\n",
    "\n",
    "val_loss, val_acc=model_05.evaluate(x_test, y_test )\n",
    "print(\"validation loss: \", val_loss)\n",
    "print(\"validation accuracy: \", val_acc)"
   ]
  },
  {
   "cell_type": "code",
   "execution_count": 15,
   "metadata": {},
   "outputs": [
    {
     "data": {
      "image/png": "[encoded data removed]",
      "text/plain": [
       "<Figure size 432x288 with 1 Axes>"
      ]
     },
     "metadata": {
      "needs_background": "light"
     },
     "output_type": "display_data"
    },
    {
     "data": {
      "image/png": "[encoded data removed]",
      "text/plain": [
       "<Figure size 432x288 with 1 Axes>"
      ]
     },
     "metadata": {
      "needs_background": "light"
     },
     "output_type": "display_data"
    }
   ],
   "source": [
    "plt.title('Model BatchNormaliz,    Accuracy')\n",
    "plt.plot(range(1,21),history_model_BatchNormaliz.history['accuracy'])\n",
    "plt.plot(range(1,21),history_model_BatchNormaliz.history['val_accuracy'])\n",
    "plt.xlabel('Epoch')\n",
    "plt.ylabel('accuracy')\n",
    "plt.legend(labels=['train','validation'])\n",
    "plt.show()\n",
    "\n",
    "plt.title('Model BatchNormaliz,    Loss')\n",
    "plt.plot(range(1,21),history_model_BatchNormaliz.history['loss'])\n",
    "plt.plot(range(1,21),history_model_BatchNormaliz.history['val_loss'])\n",
    "plt.xlabel('Epoch')\n",
    "plt.ylabel('loss')\n",
    "plt.legend(labels=['train','validation'])\n",
    "plt.show()"
   ]
  },
  {
   "cell_type": "markdown",
   "metadata": {},
   "source": [
    "вывод: После добавления слоев Batch Normalization точность модели даже немного уменьшилась. \n",
    "Высокая точность при Batch Normalization достигается уже при 3-х эпохах по сравнению с 6 эпохами без нею и\n",
    "дальше не увеличивется.\n",
    "Batch Normalization применяется для ускорения обучения и соответственно экономии ресурсов при приемлемом \n",
    "снижении уровня точности."
   ]
  },
  {
   "cell_type": "code",
   "execution_count": null,
   "metadata": {},
   "outputs": [],
   "source": []
  },
  {
   "cell_type": "markdown",
   "metadata": {},
   "source": [
    "## Визуализация результатов"
   ]
  },
  {
   "cell_type": "code",
   "execution_count": 207,
   "metadata": {},
   "outputs": [],
   "source": [
    "pred_y = model_04.predict(x_test)"
   ]
  },
  {
   "cell_type": "code",
   "execution_count": 201,
   "metadata": {},
   "outputs": [
    {
     "name": "stdout",
     "output_type": "stream",
     "text": [
      "[[9.99968767e-01 2.99800212e-10 5.51933397e-07 1.18566850e-05\n",
      "  9.82244728e-07 1.35335062e-14 1.78963182e-05 1.37591196e-17\n",
      "  1.58348423e-09 4.25528550e-14]\n",
      " [1.80807803e-07 9.99999046e-01 1.19713739e-10 7.59523743e-07\n",
      "  9.49171941e-09 3.05757295e-15 1.60774435e-10 5.77961073e-15\n",
      "  4.73485834e-11 1.13100007e-13]\n",
      " [7.97613116e-04 3.40014961e-11 9.65455890e-01 3.01672135e-05\n",
      "  9.90074454e-07 1.14605577e-13 3.37152556e-02 2.18087145e-17\n",
      "  1.12809595e-10 1.38440008e-12]\n",
      " [1.47897590e-04 5.61190024e-03 3.62902647e-04 1.28347844e-01\n",
      "  8.25985491e-01 7.02066985e-13 3.81332189e-02 3.09679040e-12\n",
      "  1.41077838e-03 1.91327709e-09]\n",
      " [4.51684937e-05 1.16136164e-06 4.12414993e-05 9.98800993e-01\n",
      "  1.04769052e-03 8.03598887e-13 2.41124649e-08 3.70395663e-13\n",
      "  6.37771154e-05 1.54554469e-09]\n",
      " [6.28585219e-02 2.25877329e-07 5.88314012e-02 4.16640134e-04\n",
      "  2.14095107e-05 7.28145738e-11 8.77666116e-01 9.36174228e-12\n",
      "  2.05716322e-04 7.68667491e-11]\n",
      " [2.15598611e-05 2.31871731e-04 7.99360278e-05 5.24679876e-07\n",
      "  1.12393593e-06 5.76509507e-08 4.55901143e-04 1.60389724e-09\n",
      "  9.99209106e-01 5.20701811e-08]\n",
      " [4.62884025e-04 1.65255387e-05 6.21467717e-02 5.62310265e-03\n",
      "  2.07953453e-01 1.20323218e-09 7.23795295e-01 4.59955370e-13\n",
      "  1.86248053e-06 6.12246680e-08]\n",
      " [2.75121214e-14 3.26119286e-18 1.29599257e-16 1.90253645e-16\n",
      "  2.22985905e-20 1.00000000e+00 3.08050026e-14 3.15617033e-10\n",
      "  7.67481651e-12 7.67042246e-13]\n",
      " [9.96375740e-01 3.43252249e-09 3.22693679e-03 3.82182072e-04\n",
      "  2.47019578e-08 6.98425692e-13 1.50813457e-05 7.14410822e-12\n",
      "  4.35032510e-10 9.58484070e-10]]\n",
      "0\n",
      "1\n",
      "2\n",
      "4\n",
      "3\n",
      "6\n",
      "8\n",
      "6\n",
      "5\n",
      "0\n"
     ]
    }
   ],
   "source": [
    "y_pred = model_04.predict(x_test[0:10])\n",
    "predicted_label = np.array(y_pred)    #np.argmax(y_pred)\n",
    "print(predicted_label)\n",
    "#print(y_pred)\n",
    "for y in y_pred:\n",
    "    #print(class_names[y])\n",
    "    print(np.argmax(y))"
   ]
  },
  {
   "cell_type": "code",
   "execution_count": 209,
   "metadata": {},
   "outputs": [
    {
     "name": "stdout",
     "output_type": "stream",
     "text": [
      "predicted_label = 0\n",
      "true_label =   0\n",
      "predicted_label = 1\n",
      "true_label =   1\n",
      "predicted_label = 2\n",
      "true_label =   2\n",
      "predicted_label = 4\n",
      "true_label =   2\n",
      "predicted_label = 3\n",
      "true_label =   3\n",
      "predicted_label = 6\n",
      "true_label =   2\n",
      "predicted_label = 8\n",
      "true_label =   8\n",
      "predicted_label = 6\n",
      "true_label =   6\n",
      "predicted_label = 5\n",
      "true_label =   5\n",
      "predicted_label = 0\n",
      "true_label =   0\n"
     ]
    }
   ],
   "source": [
    "for i in range(10):\n",
    "    predictions_array = y_pred[i]\n",
    "\n",
    "    predicted_label = np.argmax(predictions_array)\n",
    "    true_label = np.argmax(y_test[i])\n",
    "    print('predicted_label =', predicted_label)\n",
    "    print('true_label =  ', true_label)"
   ]
  },
  {
   "cell_type": "code",
   "execution_count": null,
   "metadata": {},
   "outputs": [],
   "source": []
  },
  {
   "cell_type": "code",
   "execution_count": 223,
   "metadata": {},
   "outputs": [],
   "source": [
    "def plot_image(i, predictions_array, true_label, img):\n",
    "    #predictions_array, true_label, img = predictions_array[i], true_label[i], img[i]\n",
    "    \n",
    "    plt.grid(False)\n",
    "    plt.xticks([])\n",
    "    plt.yticks([])\n",
    "\n",
    "    plt.imshow(img[i], cmap=plt.cm.binary)\n",
    "\n",
    "    predicted_label = np.argmax(predictions_array[i])     \n",
    "    true_label = np.argmax(true_label[i])    #array_int = np.array(codespeedy_float_list, dtype='int')\n",
    "    #true_label.astype(np.int32)  \n",
    "    true_label = true_label.item()   \n",
    "    if predicted_label == true_label:\n",
    "        color = 'blue'\n",
    "    else:\n",
    "        color = 'red'\n",
    "\n",
    "    plt.xlabel(\"{} {:2.0f}% ({})\".format(class_names[predicted_label],\n",
    "    100*np.max(predictions_array),\n",
    "    class_names[true_label]),\n",
    "    color=color)\n",
    "\n",
    "def plot_value_array(i, predictions_array, true_label):\n",
    "        \n",
    "    plt.grid(False)\n",
    "    plt.xticks([])\n",
    "    plt.yticks([])\n",
    "    thisplot = plt.bar(range(10), predictions_array[i], color=\"#777777\")\n",
    "    plt.ylim([0, 1])\n",
    "    predicted_label = np.argmax(predictions_array[i])\n",
    "    true_label = np.argmax(true_label[i])    #array_int = np.array(codespeedy_float_list, dtype='int')\n",
    "    true_label.astype(np.int32) \n",
    "\n",
    "    thisplot[predicted_label].set_color('red')\n",
    "    thisplot[true_label].set_color('blue')"
   ]
  },
  {
   "cell_type": "code",
   "execution_count": null,
   "metadata": {},
   "outputs": [],
   "source": []
  },
  {
   "cell_type": "code",
   "execution_count": 224,
   "metadata": {},
   "outputs": [
    {
     "data": {
      "image/png": "[encoded data removed]",
      "text/plain": [
       "<Figure size 432x216 with 2 Axes>"
      ]
     },
     "metadata": {},
     "output_type": "display_data"
    }
   ],
   "source": [
    "i = 1\n",
    "plt.figure(figsize=(6,3))\n",
    "plt.subplot(1,2,1)\n",
    "plot_image(i, y_pred, y_test, x_test)\n",
    "plt.subplot(1,2,2)\n",
    "plot_value_array(i, y_pred, y_test)"
   ]
  },
  {
   "cell_type": "code",
   "execution_count": 225,
   "metadata": {},
   "outputs": [
    {
     "data": {
      "image/png": "[encoded data removed]",
      "text/plain": [
       "<Figure size 432x216 with 2 Axes>"
      ]
     },
     "metadata": {},
     "output_type": "display_data"
    }
   ],
   "source": [
    "i = 2\n",
    "plt.figure(figsize=(6,3))\n",
    "plt.subplot(1,2,1)\n",
    "plot_image(i, y_pred, y_test, x_test)\n",
    "plt.subplot(1,2,2)\n",
    "plot_value_array(i, y_pred, y_test)"
   ]
  },
  {
   "cell_type": "code",
   "execution_count": 227,
   "metadata": {},
   "outputs": [
    {
     "data": {
      "image/png": "[encoded data removed]",
      "text/plain": [
       "<Figure size 864x432 with 18 Axes>"
      ]
     },
     "metadata": {},
     "output_type": "display_data"
    }
   ],
   "source": [
    "# Сделаем график первых X тестовых изображений, их прогнозируемые метки и действительная метка\n",
    "# Окрасим правильные прогнозы синим, а неправильные - красным\n",
    "num_rows = 3\n",
    "num_cols = 3\n",
    "num_images = num_rows*num_cols\n",
    "plt.figure(figsize=(2*2*num_cols, 2*num_rows))\n",
    "for i in range(num_images):\n",
    "    plt.subplot(num_rows, 2*num_cols, 2*i+1)\n",
    "    plot_image(i, y_pred, y_test, x_test)\n",
    "    plt.subplot(num_rows, 2*num_cols, 2*i+2)\n",
    "    plot_value_array(i, y_pred, y_test)"
   ]
  },
  {
   "cell_type": "markdown",
   "metadata": {},
   "source": [
    "Синим цветом отмечены правильные, а красным - неправильные предсказания."
   ]
  },
  {
   "cell_type": "code",
   "execution_count": null,
   "metadata": {},
   "outputs": [],
   "source": []
  }
 ],
 "metadata": {
  "kernelspec": {
   "display_name": "Python 3",
   "language": "python",
   "name": "python3"
  },
  "language_info": {
   "codemirror_mode": {
    "name": "ipython",
    "version": 3
   },
   "file_extension": ".py",
   "mimetype": "text/x-python",
   "name": "python",
   "nbconvert_exporter": "python",
   "pygments_lexer": "ipython3",
   "version": "3.6.12"
  }
 },
 "nbformat": 4,
 "nbformat_minor": 2
}
